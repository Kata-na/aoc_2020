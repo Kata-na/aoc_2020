{
 "cells": [
  {
   "cell_type": "code",
   "execution_count": 1,
   "metadata": {},
   "outputs": [],
   "source": [
    "import pandas as pd\n",
    "import numpy as np\n",
    "\n",
    "array_map = np.array(pd.read_csv(\"../Input/a3.txt\", header=None, names=[\"tree\"])[\"tree\"])"
   ]
  },
  {
   "cell_type": "code",
   "execution_count": 2,
   "metadata": {},
   "outputs": [],
   "source": [
    "def tree_count(array_map, col_move, row_move):\n",
    "    init_pos_row, init_pos_col, tree_count = 0, 0, 0\n",
    "    max_col = len(array_map[0, ]) - 1\n",
    "    max_row = len(array_map) - 1\n",
    "\n",
    "    while True:\n",
    "        init_pos_col += col_move\n",
    "        if init_pos_col > max_col:\n",
    "            init_pos_col = init_pos_col - max_col - 1\n",
    "\n",
    "        init_pos_row += row_move\n",
    "        if init_pos_row > max_row:\n",
    "            break\n",
    "        line = list(array_map[init_pos_row, ])\n",
    "        if line[init_pos_col] == '#':\n",
    "            tree_count += 1\n",
    "    return(tree_count)"
   ]
  },
  {
   "cell_type": "code",
   "execution_count": 3,
   "metadata": {},
   "outputs": [
    {
     "name": "stdout",
     "output_type": "stream",
     "text": [
      "173\n"
     ]
    }
   ],
   "source": [
    "## PART 1\n",
    "slope_3_1 = tree_count(array_map=array_map, col_move=3, row_move=1)\n",
    "print(slope_3_1)"
   ]
  },
  {
   "cell_type": "code",
   "execution_count": 4,
   "metadata": {},
   "outputs": [
    {
     "name": "stdout",
     "output_type": "stream",
     "text": [
      "4385176320\n"
     ]
    }
   ],
   "source": [
    "## PART 2\n",
    "slope_1_1 = tree_count(array_map=array_map, col_move=1, row_move=1)\n",
    "slope_5_1 = tree_count(array_map=array_map, col_move=5, row_move=1)\n",
    "slope_7_1 = tree_count(array_map=array_map, col_move=7, row_move=1)\n",
    "slope_1_2 = tree_count(array_map=array_map, col_move=1, row_move=2)\n",
    "\n",
    "print(slope_3_1 * slope_1_1 * slope_5_1 * slope_7_1 * slope_1_2)"
   ]
  }
 ],
 "metadata": {
  "kernelspec": {
   "display_name": "Python 3",
   "language": "python",
   "name": "python3"
  },
  "language_info": {
   "codemirror_mode": {
    "name": "ipython",
    "version": 3
   },
   "file_extension": ".py",
   "mimetype": "text/x-python",
   "name": "python",
   "nbconvert_exporter": "python",
   "pygments_lexer": "ipython3",
   "version": "3.8.6"
  }
 },
 "nbformat": 4,
 "nbformat_minor": 4
}
