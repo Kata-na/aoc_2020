{
 "cells": [
  {
   "cell_type": "code",
   "execution_count": 1,
   "metadata": {},
   "outputs": [],
   "source": [
    "import re"
   ]
  },
  {
   "cell_type": "code",
   "execution_count": 2,
   "metadata": {},
   "outputs": [],
   "source": [
    "with open(\"../Input/a4.txt\", \"r\") as input_file:\n",
    "    passports_list = input_file.read().split(\"\\n\\n\")\n",
    "    passports_list = [re.sub(r'\\n', ' ', passport) for passport in passports_list]"
   ]
  },
  {
   "cell_type": "code",
   "execution_count": 3,
   "metadata": {},
   "outputs": [
    {
     "name": "stdout",
     "output_type": "stream",
     "text": [
      "192\n"
     ]
    }
   ],
   "source": [
    "## PART 1\n",
    "valid_passport_count = 0\n",
    "valid_passports = []\n",
    "for passport in passports_list:\n",
    "    count = passport.count(':')\n",
    "    if count == 8 or (not bool(re.search('cid', passport)) and count == 7):\n",
    "        valid_passport_count +=1\n",
    "        valid_passports.append(passport)\n",
    "print(valid_passport_count)"
   ]
  },
  {
   "cell_type": "code",
   "execution_count": 4,
   "metadata": {},
   "outputs": [],
   "source": [
    "## PART 2\n",
    "def extract_field(string, field):\n",
    "    x = re.sub('^(?:.*?)%s:(.*?)(?: .*?)?$' % (field), '\\\\1', string)\n",
    "    return x"
   ]
  },
  {
   "cell_type": "code",
   "execution_count": 5,
   "metadata": {},
   "outputs": [],
   "source": [
    "valid_passport_count = 0\n",
    "\n",
    "for passport in valid_passports: ## checking only passports, which were identified as valid in part 1\n",
    "    byr = int(extract_field(string=passport, field='byr'))\n",
    "    iyr = int(extract_field(string=passport, field='iyr'))\n",
    "    eyr = int(extract_field(string=passport, field='eyr'))\n",
    "    hgt = extract_field(string=passport, field='hgt')\n",
    "    hcl = extract_field(string=passport, field='hcl')\n",
    "    ecl = extract_field(string=passport, field='ecl')\n",
    "    pid = extract_field(string=passport, field='pid')\n",
    "\n",
    "    ## CHECKING BYR, IYR & EYR\n",
    "    byr_validation = 1920 <= byr <= 2002\n",
    "    iyr_validation = 2010 <= iyr <= 2020\n",
    "    eyr_validation = 2020 <= eyr <= 2030\n",
    "    \n",
    "    ## CHECKING HGT/HEIGHT \n",
    "    if bool(re.search(r'cm', hgt)):\n",
    "        hgt = int(re.sub('^(?:.*?)?(\\\\d{1,5}).*?$', '\\\\1', hgt))\n",
    "        hgt_validation = 150 <= hgt <= 193\n",
    "    elif bool(re.search(r'in', hgt)):\n",
    "        hgt = int(re.sub('^(?:.*?)?(\\\\d{1,5}).*?$', '\\\\1', hgt))\n",
    "        hgt_validation = 59 <= hgt <= 76\n",
    "    else:\n",
    "        hgt_validation = False\n",
    "            \n",
    "    ## CHECKING HCL/HAIR COLOR\n",
    "    hcl_validation = bool(re.search('^#[0-9a-f]{6}', hcl))\n",
    "    \n",
    "    ## CHECKING ECL/EYE COLOR \n",
    "    ecl_validation = ecl in ['amb', 'blu', 'brn', 'gry', 'grn', 'hzl', 'oth']\n",
    "    \n",
    "    ## CHECKING PID/PASSPORT ID \n",
    "    pid_validation = bool(re.search('^\\\\d{9}$', pid))\n",
    "    \n",
    "    if (byr_validation and iyr_validation and eyr_validation and hgt_validation\n",
    "        and hcl_validation and ecl_validation and  pid_validation):\n",
    "        valid_passport_count += 1\n"
   ]
  },
  {
   "cell_type": "code",
   "execution_count": 6,
   "metadata": {},
   "outputs": [
    {
     "name": "stdout",
     "output_type": "stream",
     "text": [
      "101\n"
     ]
    }
   ],
   "source": [
    "print(valid_passport_count)"
   ]
  }
 ],
 "metadata": {
  "kernelspec": {
   "display_name": "Python 3",
   "language": "python",
   "name": "python3"
  },
  "language_info": {
   "codemirror_mode": {
    "name": "ipython",
    "version": 3
   },
   "file_extension": ".py",
   "mimetype": "text/x-python",
   "name": "python",
   "nbconvert_exporter": "python",
   "pygments_lexer": "ipython3",
   "version": "3.8.6"
  }
 },
 "nbformat": 4,
 "nbformat_minor": 4
}
