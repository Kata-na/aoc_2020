{
 "cells": [
  {
   "cell_type": "code",
   "execution_count": 1,
   "metadata": {},
   "outputs": [],
   "source": [
    "import pandas as pd\n",
    "import numpy as np\n",
    "\n",
    "nums_inp = np.array(pd.read_csv(\"../Input/a1.txt\", header=None, names=[\"nums\"])[\"nums\"])"
   ]
  },
  {
   "cell_type": "code",
   "execution_count": 2,
   "metadata": {},
   "outputs": [],
   "source": [
    "def find_two_elements(nums, target):\n",
    "    for x in nums:\n",
    "        nums = np.setdiff1d(nums,x)\n",
    "        if any(x + nums == target):\n",
    "            y = nums[x + nums == target]\n",
    "            out = np.append(y, x)\n",
    "            break\n",
    "    return(out)"
   ]
  },
  {
   "cell_type": "code",
   "execution_count": 3,
   "metadata": {},
   "outputs": [
    {
     "name": "stdout",
     "output_type": "stream",
     "text": [
      "1009899\n"
     ]
    }
   ],
   "source": [
    "## PART 1\n",
    "elem = find_two_elements(nums = nums_inp, target = 2020)\n",
    "print(elem.prod())"
   ]
  },
  {
   "cell_type": "code",
   "execution_count": 4,
   "metadata": {},
   "outputs": [],
   "source": [
    "def find_three_elements(nums, target):\n",
    "    for x in nums:\n",
    "        nums = np.setdiff1d(nums,x)\n",
    "        for y in nums:\n",
    "            nums_tmp = np.setdiff1d(nums,y)\n",
    "            if any(x + y + nums_tmp == target):\n",
    "                z = nums_tmp[x + y + nums_tmp == target]\n",
    "                out = np.append(np.append(z, y), x)\n",
    "                break\n",
    "    return(out)"
   ]
  },
  {
   "cell_type": "code",
   "execution_count": 5,
   "metadata": {},
   "outputs": [],
   "source": [
    "elem = find_three_elements(nums = nums_inp, target = 2020)"
   ]
  },
  {
   "cell_type": "code",
   "execution_count": 6,
   "metadata": {},
   "outputs": [
    {
     "name": "stdout",
     "output_type": "stream",
     "text": [
      "44211152\n"
     ]
    }
   ],
   "source": [
    "print(elem.prod())"
   ]
  }
 ],
 "metadata": {
  "kernelspec": {
   "display_name": "Python 3",
   "language": "python",
   "name": "python3"
  },
  "language_info": {
   "codemirror_mode": {
    "name": "ipython",
    "version": 3
   },
   "file_extension": ".py",
   "mimetype": "text/x-python",
   "name": "python",
   "nbconvert_exporter": "python",
   "pygments_lexer": "ipython3",
   "version": "3.8.6"
  }
 },
 "nbformat": 4,
 "nbformat_minor": 4
}
