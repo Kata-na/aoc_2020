{
 "cells": [
  {
   "cell_type": "code",
   "execution_count": 1,
   "metadata": {},
   "outputs": [],
   "source": [
    "import re\n",
    "import numpy as np\n",
    "\n",
    "with open('../Input/a7.txt') as input_file:\n",
    "    bags = input_file.read().split('\\n')"
   ]
  },
  {
   "cell_type": "code",
   "execution_count": 2,
   "metadata": {},
   "outputs": [],
   "source": [
    "for bag in bags:\n",
    "    main_bag    = re.sub('^(.*?) bags.*?$', '\\\\1', bag)\n",
    "    inside_bags = re.sub('^.*? bags contain (.*?)\\\\.$', '\\\\1', bag)#.split(', ')\n",
    "    try :\n",
    "        bags_map = np.vstack([bags_map, np.array([main_bag, inside_bags])])\n",
    "    except:\n",
    "        bags_map = np.array([main_bag, inside_bags])"
   ]
  },
  {
   "cell_type": "code",
   "execution_count": 3,
   "metadata": {},
   "outputs": [],
   "source": [
    "################################################################\n",
    "## PART 1 | Could be re-written as recursive function\n",
    "################################################################\n",
    "def find_outer_bags(look_for, bags):\n",
    "    checked_bags = []\n",
    "    while True:\n",
    "        checked_bags = np.append(checked_bags, look_for)\n",
    "        look_for = '|'.join(set(look_for))\n",
    "        mask = [bool(re.search(look_for, bag)) for bag in  bags[:, 1]]\n",
    "\n",
    "        look_for = np.setdiff1d(bags[mask, ][:, 0], checked_bags)\n",
    "        if len(bags[mask, ]) == 0 or all(look_for == ''):\n",
    "            break\n",
    "\n",
    "        try:\n",
    "            bag_check = np.c_[bag_check, mask]  \n",
    "        except:\n",
    "            bag_check = mask\n",
    "\n",
    "    count_outer_bags = sum(bag_check.sum(axis = 1) != 0)\n",
    "    outer_bags       = bags[bag_check.sum(axis = 1) != 0][:, 0]\n",
    "    return(count_outer_bags, outer_bags)"
   ]
  },
  {
   "cell_type": "code",
   "execution_count": 4,
   "metadata": {},
   "outputs": [
    {
     "name": "stdout",
     "output_type": "stream",
     "text": [
      "226\n"
     ]
    },
    {
     "data": {
      "text/plain": [
       "226"
      ]
     },
     "execution_count": 4,
     "metadata": {},
     "output_type": "execute_result"
    }
   ],
   "source": [
    "count_outer_bags, outer_bags = find_outer_bags(look_for=['shiny gold'], bags=bags_map)\n",
    "print(count_outer_bags)\n",
    "len(set(outer_bags))"
   ]
  },
  {
   "cell_type": "code",
   "execution_count": 5,
   "metadata": {},
   "outputs": [],
   "source": [
    "################################################################\n",
    "## PART 2\n",
    "################################################################\n",
    "def count_bags(outer_bag, multiplier, all_bags):\n",
    "    inside_bags = all_bags[outer_bag]\n",
    "    if inside_bags == 'no other bags':\n",
    "        return(dict())\n",
    "    amount = np.array(re.findall('\\\\d', inside_bags))\n",
    "    amount = amount.astype('int64')\n",
    "    bags   = re.findall('\\\\d (.*?) bags?', inside_bags)\n",
    "    bags_dict = dict(zip(bags, amount * multiplier))\n",
    "\n",
    "    for bag, n in zip(bags, amount):\n",
    "        out = count_bags(outer_bag=bag, multiplier=(n*multiplier), all_bags=all_bags)\n",
    "        for key in out: \n",
    "            if key in bags_dict: \n",
    "                bags_dict[key] = bags_dict[key] + out[key] \n",
    "            else: \n",
    "                bags_dict[key] = out[key] \n",
    "    return(bags_dict)"
   ]
  },
  {
   "cell_type": "code",
   "execution_count": 6,
   "metadata": {},
   "outputs": [
    {
     "name": "stdout",
     "output_type": "stream",
     "text": [
      "9569\n"
     ]
    }
   ],
   "source": [
    "bags_map = dict(zip(bags_map[:, 0], bags_map[:, 1]))\n",
    "gold_bag_inside_bags_map = count_bags(outer_bag='shiny gold', multiplier=1, all_bags=bags_map)\n",
    "print(sum(gold_bag_inside_bags_map.values()))"
   ]
  }
 ],
 "metadata": {
  "kernelspec": {
   "display_name": "Python 3",
   "language": "python",
   "name": "python3"
  },
  "language_info": {
   "codemirror_mode": {
    "name": "ipython",
    "version": 3
   },
   "file_extension": ".py",
   "mimetype": "text/x-python",
   "name": "python",
   "nbconvert_exporter": "python",
   "pygments_lexer": "ipython3",
   "version": "3.8.6"
  }
 },
 "nbformat": 4,
 "nbformat_minor": 4
}
