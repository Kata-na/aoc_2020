{
 "cells": [
  {
   "cell_type": "code",
   "execution_count": 1,
   "metadata": {},
   "outputs": [],
   "source": [
    "import re"
   ]
  },
  {
   "cell_type": "code",
   "execution_count": 3,
   "metadata": {},
   "outputs": [],
   "source": [
    "## PART 1\n",
    "with open(\"../Input/a2.txt\") as passwords:\n",
    "    total_correct_passwords = 0\n",
    "    for line in passwords:\n",
    "        lower_lim = int(re.sub('(^[0-9]{1,2})-.*?$', '\\\\1', line))\n",
    "        upper_lim = int(re.sub('^[0-9]{1,2}-([0-9]{1,2}) .*?$', '\\\\1', line))\n",
    "        letter    = re.sub(r'\\n', '', re.sub('^[0-9]{1,2}-[0-9]{1,2} ([a-z]):.*?$', '\\\\1', line))\n",
    "        password  = re.sub(r'\\n', '',re.sub('^[0-9]{1,2}-[0-9]{1,2} [a-z]: (.*?$)', '\\\\1', line))\n",
    "        count = password.count(letter)\n",
    "        \n",
    "        if lower_lim <= count <= upper_lim:\n",
    "            total_correct_passwords += 1"
   ]
  },
  {
   "cell_type": "code",
   "execution_count": 4,
   "metadata": {},
   "outputs": [
    {
     "name": "stdout",
     "output_type": "stream",
     "text": [
      "434\n"
     ]
    }
   ],
   "source": [
    "print(total_correct_passwords)"
   ]
  },
  {
   "cell_type": "code",
   "execution_count": 5,
   "metadata": {},
   "outputs": [],
   "source": [
    "## PART 2\n",
    "with open(\"../Input/a2.txt\") as passwords:\n",
    "    total_correct_passwords = 0\n",
    "    for line in passwords:\n",
    "        lower_lim = int(re.sub('(^[0-9]{1,2})-.*?$', '\\\\1', line)) - 1\n",
    "        upper_lim = int(re.sub('^[0-9]{1,2}-([0-9]{1,2}) .*?$', '\\\\1', line)) - 1\n",
    "        letter    = re.sub(r'\\n', '', re.sub('^[0-9]{1,2}-[0-9]{1,2} ([a-z]):.*?$', '\\\\1', line))\n",
    "        password  = list(re.sub(r'\\n', '',re.sub('^[0-9]{1,2}-[0-9]{1,2} [a-z]: (.*?$)', '\\\\1', line)))\n",
    "        \n",
    "        if ((password[lower_lim] == letter or password[upper_lim] == letter) \n",
    "            and (password[lower_lim] != password[upper_lim])):\n",
    "            total_correct_passwords += 1\n",
    " "
   ]
  },
  {
   "cell_type": "code",
   "execution_count": 6,
   "metadata": {},
   "outputs": [
    {
     "name": "stdout",
     "output_type": "stream",
     "text": [
      "509\n"
     ]
    }
   ],
   "source": [
    "print(total_correct_passwords)"
   ]
  },
  {
   "cell_type": "code",
   "execution_count": 7,
   "metadata": {},
   "outputs": [
    {
     "data": {
      "text/plain": [
       "'^.{0,4}'"
      ]
     },
     "execution_count": 7,
     "metadata": {},
     "output_type": "execute_result"
    }
   ],
   "source": [
    "\"^.{0,%s}\" % (lower_lim-1)"
   ]
  }
 ],
 "metadata": {
  "kernelspec": {
   "display_name": "Python 3",
   "language": "python",
   "name": "python3"
  },
  "language_info": {
   "codemirror_mode": {
    "name": "ipython",
    "version": 3
   },
   "file_extension": ".py",
   "mimetype": "text/x-python",
   "name": "python",
   "nbconvert_exporter": "python",
   "pygments_lexer": "ipython3",
   "version": "3.8.6"
  }
 },
 "nbformat": 4,
 "nbformat_minor": 4
}
