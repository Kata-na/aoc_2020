{
 "cells": [
  {
   "cell_type": "code",
   "execution_count": 1,
   "metadata": {},
   "outputs": [],
   "source": [
    "import re\n",
    "import numpy as np"
   ]
  },
  {
   "cell_type": "code",
   "execution_count": 2,
   "metadata": {},
   "outputs": [
    {
     "name": "stdout",
     "output_type": "stream",
     "text": [
      "6351\n"
     ]
    }
   ],
   "source": [
    "## PART 1\n",
    "with open('../Input/a6.txt') as input_file:\n",
    "    form_answers = input_file.read().split('\\n\\n')\n",
    "\n",
    "unique_answer_count_by_group = [len(set(re.sub(r'\\n', '', ans))) for ans in form_answers]\n",
    "print(sum(unique_answer_count_by_group))"
   ]
  },
  {
   "cell_type": "code",
   "execution_count": 3,
   "metadata": {},
   "outputs": [
    {
     "name": "stdout",
     "output_type": "stream",
     "text": [
      "3143\n"
     ]
    }
   ],
   "source": [
    "valid_answers_counter = 0\n",
    "for ans in form_answers:\n",
    "    number_of_respondents = ans.count('\\n') + 1\n",
    "    ans = list(re.sub(r'\\n', '', ans))\n",
    "    count = np.array([ans.count(letter) for letter in set(ans)])\n",
    "    valid_answers_counter += len(count[count == number_of_respondents])\n",
    "    \n",
    "print(valid_answers_counter)"
   ]
  }
 ],
 "metadata": {
  "kernelspec": {
   "display_name": "Python 3",
   "language": "python",
   "name": "python3"
  },
  "language_info": {
   "codemirror_mode": {
    "name": "ipython",
    "version": 3
   },
   "file_extension": ".py",
   "mimetype": "text/x-python",
   "name": "python",
   "nbconvert_exporter": "python",
   "pygments_lexer": "ipython3",
   "version": "3.8.6"
  }
 },
 "nbformat": 4,
 "nbformat_minor": 4
}
