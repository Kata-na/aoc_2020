{
 "cells": [
  {
   "cell_type": "code",
   "execution_count": 1,
   "metadata": {},
   "outputs": [],
   "source": [
    "import numpy as np\n",
    "\n",
    "with open('../Input/a9.txt') as input_file:\n",
    "    prim = input_file.read().split('\\n')\n",
    "    prim = [int(i) for i in prim]"
   ]
  },
  {
   "cell_type": "code",
   "execution_count": 2,
   "metadata": {},
   "outputs": [],
   "source": [
    "wind_size = 25"
   ]
  },
  {
   "cell_type": "code",
   "execution_count": 3,
   "metadata": {},
   "outputs": [
    {
     "name": "stdout",
     "output_type": "stream",
     "text": [
      "14144619\n"
     ]
    }
   ],
   "source": [
    "### PART 1 ###\n",
    "for i in range(25, len(prim)):\n",
    "    check_sum = [x + y for x in prim[(i-wind_size):i] for y in prim[(i-wind_size):i] if x != y] \n",
    "    if (prim[i] not in check_sum):\n",
    "        ans = prim[i]\n",
    "\n",
    "print(ans)"
   ]
  },
  {
   "cell_type": "code",
   "execution_count": 4,
   "metadata": {},
   "outputs": [],
   "source": [
    "### PART 2 ###\n",
    "def find_encryption_weakness(inp, target, start = 0):\n",
    "    check_sum = np.cumsum(inp[start:])\n",
    "    if target in check_sum:\n",
    "        end = np.where(check_sum == target)\n",
    "        min_val = min(prim[start:(end[0] + start)[0]])\n",
    "        max_val = max(prim[start:(end[0] + start)[0]])\n",
    "        ans = min_val + max_val\n",
    "        return(start, (end[0] + start)[0], ans)\n",
    "    else:\n",
    "        return(find_encryption_weakness(inp = inp, target = target, start = start + 1))"
   ]
  },
  {
   "cell_type": "code",
   "execution_count": 5,
   "metadata": {},
   "outputs": [
    {
     "name": "stdout",
     "output_type": "stream",
     "text": [
      "1766397\n"
     ]
    }
   ],
   "source": [
    "start, end, ans = find_encryption_weakness(inp = prim, target = ans)\n",
    "print(ans)"
   ]
  }
 ],
 "metadata": {
  "kernelspec": {
   "display_name": "Python 3",
   "language": "python",
   "name": "python3"
  },
  "language_info": {
   "codemirror_mode": {
    "name": "ipython",
    "version": 3
   },
   "file_extension": ".py",
   "mimetype": "text/x-python",
   "name": "python",
   "nbconvert_exporter": "python",
   "pygments_lexer": "ipython3",
   "version": "3.8.6"
  }
 },
 "nbformat": 4,
 "nbformat_minor": 4
}
